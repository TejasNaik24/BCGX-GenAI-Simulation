{
 "cells": [
  {
   "cell_type": "code",
   "execution_count": null,
   "id": "3a7d11e5-e1c7-4267-b0e2-39bbeffc1876",
   "metadata": {},
   "outputs": [],
   "source": [
    "import pandas as pd"
   ]
  },
  {
   "cell_type": "code",
   "execution_count": null,
   "id": "4af53534-9302-40a1-9db7-02969f4476cf",
   "metadata": {},
   "outputs": [],
   "source": [
    "file_path = 'GenAI-Data.xlsx'\n",
    "df = pd.read_excel(file_path)"
   ]
  },
  {
   "cell_type": "code",
   "execution_count": null,
   "id": "215211cb-6896-4f2d-a1a9-d7dc32bad33c",
   "metadata": {},
   "outputs": [],
   "source": [
    "df['Revenue Growth (%)'] = df.groupby('Company')['Total Revenue'].pct_change() * 100\n",
    "df['Net Income Growth (%)'] = df.groupby('Company')['Net Income'].pct_change() * 100\n",
    "df.fillna(0, inplace=True)"
   ]
  },
  {
   "cell_type": "code",
   "execution_count": null,
   "id": "21bcb72b-bb5b-460f-85b9-81aa6ad31e35",
   "metadata": {},
   "outputs": [],
   "source": [
    "summary = df.groupby('Company').agg({\n",
    "    'Revenue Growth (%)': 'mean',\n",
    "    'Net Income Growth (%)': 'mean'\n",
    "}).reset_index()"
   ]
  },
  {
   "cell_type": "code",
   "execution_count": null,
   "id": "5ea006eb-b15b-48f1-a111-25de70cc6632",
   "metadata": {},
   "outputs": [],
   "source": [
    "def simple_chatbot(user_query):\n",
    "    if user_query.lower() == \"what is the total revenue?\":\n",
    "        total = df['Total Revenue'].sum()\n",
    "        return f\"The total revenue across all companies and years is {total:,}.\"\n",
    "\n",
    "    elif user_query.lower() == \"how has net income changed over the last year?\":\n",
    "        last_years = df[df['Year'] == df['Year'].max()]\n",
    "        change = last_years['Net Income'].sum() - df[df['Year'] == df['Year'].max() - 1]['Net Income'].sum()\n",
    "        trend = \"increased\" if change > 0 else \"decreased\"\n",
    "        return f\"The net income has {trend} by {abs(change):,.2f} over the last year.\"\n",
    "\n",
    "    elif user_query.lower() == \"show average growth rates\":\n",
    "        result = \"\"\n",
    "        for _, row in summary.iterrows():\n",
    "            result += (f\"{row['Company']}: Revenue Growth = {row['Revenue Growth (%)']:.2f}%, \"\n",
    "                       f\"Net Income Growth = {row['Net Income Growth (%)']:.2f}%\\n\")\n",
    "        return result.strip()\n",
    "\n",
    "    elif user_query.lower() == \"list companies\":\n",
    "        companies = df['Company'].unique()\n",
    "        return \"Companies in the dataset: \" + \", \".join(companies)\n",
    "\n",
    "    elif user_query.lower() == \"help\":\n",
    "        return (\n",
    "            \"You can ask me:\\n\"\n",
    "            \"- What is the total revenue?\\n\"\n",
    "            \"- How has net income changed over the last year?\\n\"\n",
    "            \"- Show average growth rates\\n\"\n",
    "            \"- List companies\"\n",
    "        )\n",
    "\n",
    "    else:\n",
    "        return \"Sorry, I can only respond to predefined queries. Type 'help' to see available questions.\""
   ]
  },
  {
   "cell_type": "code",
   "execution_count": null,
   "id": "3cf490d2-c66d-4b05-a45a-3ea3b96a93b1",
   "metadata": {},
   "outputs": [],
   "source": [
    "if __name__ == \"__main__\":\n",
    "    print(\"Welcome to the Financial Chatbot! Type 'help' to see options. Type 'exit' to quit.\")\n",
    "    while True:\n",
    "        user_input = input(\"\\nYou: \")\n",
    "        if user_input.lower() in [\"exit\", \"quit\"]:\n",
    "            print(\"Chatbot: Goodbye!\")\n",
    "            break\n",
    "        response = simple_chatbot(user_input)\n",
    "        print(\"Chatbot:\", response)"
   ]
  }
 ],
 "metadata": {
  "kernelspec": {
   "display_name": "Python 3 (ipykernel)",
   "language": "python",
   "name": "python3"
  },
  "language_info": {
   "codemirror_mode": {
    "name": "ipython",
    "version": 3
   },
   "file_extension": ".py",
   "mimetype": "text/x-python",
   "name": "python",
   "nbconvert_exporter": "python",
   "pygments_lexer": "ipython3",
   "version": "3.13.1"
  }
 },
 "nbformat": 4,
 "nbformat_minor": 5
}
